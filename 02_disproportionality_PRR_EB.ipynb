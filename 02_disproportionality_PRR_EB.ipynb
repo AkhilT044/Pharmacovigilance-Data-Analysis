{
 "cells": [
  {
   "cell_type": "markdown",
   "id": "997bf516",
   "metadata": {},
   "source": [
    "# --- Markdown Cell: Introduction ---\n",
    "# Statistical Signal Detection\n",
    "\n",
    "**Objective:** To apply established statistical methods to our clean dataset to identify drug-adverse event pairs that are reported more frequently than expected by chance.\n",
    "\n",
    "**The Story:** Now that we have clean data, we can begin the hunt for signals. Our approach is to calculate a \"signal score\" for every single drug-event pair in the database. A high score suggests a potential safety issue that warrants a closer look. We will use a sophisticated method called Empirical-Bayes shrinkage to ensure our signals are statistically robust and not just random noise.\n",
    "\n",
    "\n",
    "# Setup and Load Data\n"
   ]
  },
  {
   "cell_type": "code",
   "execution_count": 12,
   "id": "665fa93d",
   "metadata": {},
   "outputs": [
    {
     "name": "stdout",
     "output_type": "stream",
     "text": [
      "Clean dataset loaded successfully.\n"
     ]
    }
   ],
   "source": [
    "\n",
    "import pandas as pd\n",
    "import numpy as np\n",
    "from scipy.stats import gamma, chi2_contingency, chi2\n",
    "from scipy.special import psi\n",
    "import os\n",
    "\n",
    "PROCESSED_DATA_PATH = '../data/processed/'\n",
    "TARGET_QUARTER_DIR = 'faers_ascii_2024q4'\n",
    "ANALYSIS_READY_FILE = f'faers_{TARGET_QUARTER_DIR}_analysis_ready.parquet'\n",
    "\n",
    "df = pd.read_parquet(os.path.join(PROCESSED_DATA_PATH, ANALYSIS_READY_FILE))\n",
    "print(\"Clean dataset loaded successfully.\")\n",
    "\n"
   ]
  },
  {
   "cell_type": "markdown",
   "id": "0b3be5e7",
   "metadata": {},
   "source": [
    "\n",
    "# Build Contingency Table and Calculate Signal Scores\n"
   ]
  },
  {
   "cell_type": "code",
   "execution_count": 13,
   "id": "dad37296",
   "metadata": {},
   "outputs": [],
   "source": [
    "\n",
    "# --- Explode data and get counts ---\n",
    "df_pairs = df.explode('drugs').explode('reactions').dropna(subset=['drugs', 'reactions'])\n",
    "pair_counts = df_pairs.groupby(['drugs', 'reactions']).size().reset_index(name='a')\n",
    "drug_counts = df_pairs.groupby('drugs')['safetyreportid'].nunique().rename('N_drug')\n",
    "event_counts = df_pairs.groupby('reactions')['safetyreportid'].nunique().rename('N_event')\n",
    "N = df['safetyreportid'].nunique()\n",
    "\n",
    "# --- Create the full stats table ---\n",
    "df_stats = pair_counts.merge(drug_counts, on='drugs').merge(event_counts, on='reactions')\n",
    "df_stats['b'] = df_stats['N_drug'] - df_stats['a']\n",
    "df_stats['c'] = df_stats['N_event'] - df_stats['a']\n",
    "df_stats['d'] = N - (df_stats['a'] + df_stats['b'] + df_stats['c'])\n",
    "df_stats['E'] = (df_stats['N_drug'] * df_stats['N_event']) / N\n",
    "\n",
    "# --- Calculate EBGM and EB05 (Robust Scores) ---\n",
    "rr_observed = df_stats.loc[df_stats['a'] > 0, 'a'] / df_stats.loc[df_stats['a'] > 0, 'E']\n",
    "alpha_prior = (rr_observed.mean() ** 2) / rr_observed.var()\n",
    "beta_prior = rr_observed.mean() / rr_observed.var()\n",
    "\n",
    "df_stats['alpha_post'] = alpha_prior + df_stats['a']\n",
    "df_stats['beta_post'] = beta_prior + df_stats['E']\n",
    "\n",
    "df_stats['EBGM'] = np.exp(psi(df_stats['alpha_post']) - np.log(df_stats['beta_post']))\n",
    "df_stats['EB05'] = gamma.ppf(0.05, a=df_stats['alpha_post'], scale=1.0 / df_stats['beta_post'])\n",
    "df_stats['EB_Signal'] = df_stats['EB05'] >= 2"
   ]
  },
  {
   "cell_type": "markdown",
   "id": "d93b98cd",
   "metadata": {},
   "source": [
    "\n",
    "# Save Final Results\n"
   ]
  },
  {
   "cell_type": "code",
   "execution_count": 14,
   "id": "c4df2283",
   "metadata": {},
   "outputs": [
    {
     "name": "stdout",
     "output_type": "stream",
     "text": [
      "\n",
      "✅ Success! Full statistical results saved to faers_full_results.parquet\n",
      "\n",
      "--- Top 10 Signals by EB05 Score ---\n",
      "       drugs reactions  a    E      EBGM     EB05\n",
      "410147   583  23427330  1  0.0  84058.97  7687.96\n",
      "410846    96  24448813  1  0.0  84058.97  7687.96\n",
      "410847    97  19965923  1  0.0  84058.97  7687.96\n",
      "410125   517  24282354  1  0.0  84058.97  7687.96\n",
      "410142    55  24049810  1  0.0  84058.97  7687.96\n",
      "410843    91  24591193  1  0.0  84058.97  7687.96\n",
      "410120   503  23087756  1  0.0  84058.97  7687.96\n",
      "410119    50  23679847  1  0.0  84058.97  7687.96\n",
      "409693    47  24658635  1  0.0  84058.97  7687.96\n",
      "409690    45  23237653  1  0.0  84058.97  7687.96\n"
     ]
    }
   ],
   "source": [
    "\n",
    "# Also calculate p-value for the volcano plot in the next notebook\n",
    "df_stats['chi2'] = df_stats.apply(lambda row: chi2_contingency(np.array([[row['a'], row['b']], [row['c'], row['d']]]))[0], axis=1)\n",
    "df_stats['p_value'] = chi2.sf(df_stats['chi2'], 1)\n",
    "\n",
    "RESULTS_OUTPUT = 'faers_full_results.parquet'\n",
    "df_stats.to_parquet(os.path.join(PROCESSED_DATA_PATH, RESULTS_OUTPUT))\n",
    "\n",
    "print(f\"\\n✅ Success! Full statistical results saved to {RESULTS_OUTPUT}\")\n",
    "\n",
    "# --- Markdown Cell: Conclusion ---\n",
    "# # Conclusion\n",
    "#\n",
    "# We have successfully calculated robust signal scores (EBGM and EB05) for every drug-event pair. The `EB05` score gives us a high-confidence measure to rank and prioritize these signals.\n",
    "#\n",
    "# **Our final output is a comprehensive table containing these prioritized signals, which is now ready for visualization and deep-dive analysis.**\n",
    "#\n",
    "# Here is a preview of our top 10 most robust signals:\n",
    "print(\"\\n--- Top 10 Signals by EB05 Score ---\")\n",
    "print(df_stats[df_stats['EB_Signal']].sort_values('EB05', ascending=False).head(10)[['drugs', 'reactions', 'a', 'E', 'EBGM', 'EB05']].round(2))"
   ]
  }
 ],
 "metadata": {
  "kernelspec": {
   "display_name": "Python 3",
   "language": "python",
   "name": "python3"
  },
  "language_info": {
   "codemirror_mode": {
    "name": "ipython",
    "version": 3
   },
   "file_extension": ".py",
   "mimetype": "text/x-python",
   "name": "python",
   "nbconvert_exporter": "python",
   "pygments_lexer": "ipython3",
   "version": "3.13.2"
  }
 },
 "nbformat": 4,
 "nbformat_minor": 5
}
